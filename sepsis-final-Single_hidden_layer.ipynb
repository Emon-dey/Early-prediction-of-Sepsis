{
 "cells": [
  {
   "cell_type": "code",
   "execution_count": 3,
   "metadata": {},
   "outputs": [
    {
     "name": "stderr",
     "output_type": "stream",
     "text": [
      "Using TensorFlow backend.\n"
     ]
    }
   ],
   "source": [
    "## Survival Analysis using Keras\n",
    "from __future__ import absolute_import, division, print_function, unicode_literals\n",
    "import pandas as pd\n",
    "from tensorflow import keras\n",
    "from keras.initializers import glorot_uniform\n",
    "from keras.models import Sequential\n",
    "from keras.layers import Dense, Activation, Dropout\n",
    "from keras.optimizers import SGD, RMSprop, Adam\n",
    "from keras.regularizers import l2\n",
    "import keras.backend as K\n",
    "import numpy as np\n",
    "from sklearn.model_selection import train_test_split\n",
    "from sklearn import preprocessing\n",
    "from sklearn.preprocessing import StandardScaler\n",
    "from lifelines.utils import concordance_index\n",
    "import random\n",
    "from sklearn.model_selection import StratifiedKFold\n",
    "import tensorflow as tf\n",
    "from keras.callbacks import EarlyStopping\n",
    "import seaborn as sns\n",
    "import missingno as msno\n",
    "from tensorflow import keras\n",
    "from tensorflow.keras import layers\n",
    "\n",
    "import os\n",
    "import tempfile\n",
    "\n",
    "import matplotlib as mpl\n",
    "import matplotlib.pyplot as plt\n",
    "import numpy as np\n",
    "import pandas as pd\n",
    "import seaborn as sns\n",
    "\n",
    "import sklearn\n",
    "from sklearn.metrics import confusion_matrix\n",
    "from sklearn.model_selection import train_test_split\n",
    "from sklearn.preprocessing import StandardScaler"
   ]
  },
  {
   "cell_type": "code",
   "execution_count": 7,
   "metadata": {},
   "outputs": [
    {
     "name": "stdout",
     "output_type": "stream",
     "text": [
      "\t(Val Data:  fold4.csv )\n",
      "\n",
      "\t(Test Data:  fold5.csv )\n",
      "\n"
     ]
    },
    {
     "name": "stderr",
     "output_type": "stream",
     "text": [
      "C:\\Users\\mdmah\\AppData\\Local\\Continuum\\anaconda3\\lib\\site-packages\\sklearn\\utils\\deprecation.py:66: DeprecationWarning: Class Imputer is deprecated; Imputer was deprecated in version 0.20 and will be removed in 0.22. Import impute.SimpleImputer from sklearn instead.\n",
      "  warnings.warn(msg, category=DeprecationWarning)\n"
     ]
    }
   ],
   "source": [
    "from numpy.random import seed\n",
    "seed(1234)\n",
    "from tensorflow import set_random_seed\n",
    "set_random_seed(1234)\n",
    "\n",
    "\n",
    "\n",
    "fold_name = 'fold' + str(4) + '.csv'\n",
    "print('\\t(Val Data: ', fold_name, ')\\n')\n",
    "val_data = pd.read_csv(fold_name) # Fold_2_df.psv\n",
    "\n",
    "train_data = pd.read_csv('fold' + str(1) + '.csv')\n",
    "train_data = train_data.append(pd.read_csv('fold' + str(2) + '.csv')) \n",
    "train_data = train_data.append(pd.read_csv('fold' + str(3) + '.csv')) \n",
    "\n",
    "fold_name1 = 'fold' + str(5) + '.csv'\n",
    "print('\\t(Test Data: ', fold_name1, ')\\n')\n",
    "test_data = pd.read_csv(fold_name1)\n",
    "\n",
    "X_train = train_data.drop(['Patient ID','Time of Observation','SepsisLabel' ],axis=1)\n",
    "y_train = train_data['SepsisLabel']\n",
    "y_train=np.array(y_train)\n",
    "\n",
    "\n",
    "X_val = val_data.drop(['Patient ID','Time of Observation','SepsisLabel' ],axis=1)\n",
    "y_val = val_data['SepsisLabel']\n",
    "y_val=np.array(y_val)\n",
    "\n",
    "\n",
    "X_test = test_data.drop(['Patient ID','Time of Observation','SepsisLabel' ],axis=1)\n",
    "y_test = test_data['SepsisLabel']\n",
    "y_test=np.array(y_test)\n",
    "\n",
    "#Missing value imputation\n",
    "from sklearn.preprocessing import Imputer\n",
    "imputer = Imputer()\n",
    "X_train = imputer.fit_transform(X_train)\n",
    "X_val= imputer.transform(X_val)\n",
    "X_test= imputer.transform(X_test)\n",
    "\n",
    "#Normalization\n",
    "from sklearn.preprocessing import StandardScaler\n",
    "scaler = StandardScaler()\n",
    "X_train = scaler.fit_transform(X_train)\n",
    "X_val= scaler.transform(X_val)\n",
    "X_test= scaler.transform(X_test)\n",
    "\n",
    "\n",
    "    "
   ]
  },
  {
   "cell_type": "code",
   "execution_count": 8,
   "metadata": {},
   "outputs": [],
   "source": [
    "METRICS = [\n",
    "      keras.metrics.TruePositives(name='tp'),\n",
    "      keras.metrics.FalsePositives(name='fp'),\n",
    "      keras.metrics.TrueNegatives(name='tn'),\n",
    "      keras.metrics.FalseNegatives(name='fn'), \n",
    "      keras.metrics.BinaryAccuracy(name='accuracy'),\n",
    "      keras.metrics.Precision(name='precision'),\n",
    "      keras.metrics.Recall(name='recall'),\n",
    "      keras.metrics.AUC(name='auc'),\n",
    "]\n",
    "\n",
    "def make_model(metrics = METRICS, output_bias=None):\n",
    "    if output_bias is not None:\n",
    "        output_bias = tf.keras.initializers.Constant(output_bias)\n",
    "    model = keras.Sequential([\n",
    "      keras.layers.Dense(\n",
    "          16, activation='relu',\n",
    "          input_shape=(X_train.shape[-1],)),\n",
    "      keras.layers.Dropout(0.5),\n",
    "      keras.layers.Dense(1, activation='sigmoid',\n",
    "                         bias_initializer=output_bias),\n",
    "  ])\n",
    "\n",
    "    model.compile(\n",
    "      optimizer=keras.optimizers.Adam(lr=1e-3),\n",
    "      loss=keras.losses.BinaryCrossentropy(),\n",
    "      metrics=metrics)\n",
    "\n",
    "    return model"
   ]
  },
  {
   "cell_type": "code",
   "execution_count": 9,
   "metadata": {},
   "outputs": [],
   "source": [
    "EPOCHS = 100\n",
    "BATCH_SIZE = 2048\n",
    "\n",
    "early_stopping = tf.keras.callbacks.EarlyStopping(\n",
    "    monitor='val_auc', \n",
    "    verbose=1,\n",
    "    patience=10,\n",
    "    mode='max',\n",
    "    restore_best_weights=True)"
   ]
  },
  {
   "cell_type": "code",
   "execution_count": 10,
   "metadata": {},
   "outputs": [
    {
     "name": "stdout",
     "output_type": "stream",
     "text": [
      "WARNING:tensorflow:From C:\\Users\\mdmah\\AppData\\Local\\Continuum\\anaconda3\\lib\\site-packages\\tensorflow\\python\\ops\\init_ops.py:1251: calling VarianceScaling.__init__ (from tensorflow.python.ops.init_ops) with dtype is deprecated and will be removed in a future version.\n",
      "Instructions for updating:\n",
      "Call initializer instance with the dtype argument instead of passing it to the constructor\n",
      "WARNING:tensorflow:From C:\\Users\\mdmah\\AppData\\Local\\Continuum\\anaconda3\\lib\\site-packages\\tensorflow\\python\\ops\\nn_impl.py:180: add_dispatch_support.<locals>.wrapper (from tensorflow.python.ops.array_ops) is deprecated and will be removed in a future version.\n",
      "Instructions for updating:\n",
      "Use tf.where in 2.0, which has the same broadcast rule as np.where\n",
      "Model: \"sequential\"\n",
      "_________________________________________________________________\n",
      "Layer (type)                 Output Shape              Param #   \n",
      "=================================================================\n",
      "dense (Dense)                (None, 16)                240       \n",
      "_________________________________________________________________\n",
      "dropout (Dropout)            (None, 16)                0         \n",
      "_________________________________________________________________\n",
      "dense_1 (Dense)              (None, 1)                 17        \n",
      "=================================================================\n",
      "Total params: 257\n",
      "Trainable params: 257\n",
      "Non-trainable params: 0\n",
      "_________________________________________________________________\n"
     ]
    }
   ],
   "source": [
    "model = make_model()\n",
    "model.summary()"
   ]
  },
  {
   "cell_type": "code",
   "execution_count": 11,
   "metadata": {},
   "outputs": [
    {
     "data": {
      "text/plain": [
       "array([[0.75955427],\n",
       "       [0.7596772 ],\n",
       "       [0.7898944 ],\n",
       "       [0.8028436 ],\n",
       "       [0.82840204],\n",
       "       [0.8472123 ],\n",
       "       [0.6552022 ],\n",
       "       [0.738803  ],\n",
       "       [0.64515644],\n",
       "       [0.547253  ]], dtype=float32)"
      ]
     },
     "execution_count": 11,
     "metadata": {},
     "output_type": "execute_result"
    }
   ],
   "source": [
    "model.predict(X_train[:10])"
   ]
  },
  {
   "cell_type": "code",
   "execution_count": 12,
   "metadata": {},
   "outputs": [
    {
     "name": "stdout",
     "output_type": "stream",
     "text": [
      "Loss: 1.0590\n"
     ]
    }
   ],
   "source": [
    "results = model.evaluate(X_train, y_train, batch_size=BATCH_SIZE, verbose=0)\n",
    "print(\"Loss: {:0.4f}\".format(results[0]))"
   ]
  },
  {
   "cell_type": "code",
   "execution_count": 14,
   "metadata": {},
   "outputs": [],
   "source": [
    "raw_data=train_data.append(val_data)\n",
    "raw_data=raw_data.append(test_data)\n",
    "\n"
   ]
  },
  {
   "cell_type": "code",
   "execution_count": 15,
   "metadata": {},
   "outputs": [
    {
     "name": "stdout",
     "output_type": "stream",
     "text": [
      "Examples:\n",
      "    Total: 1552210\n",
      "    Positive: 49995 (3.22% of total)\n",
      "\n"
     ]
    }
   ],
   "source": [
    "neg, pos = np.bincount(raw_data['SepsisLabel'])\n",
    "total = neg + pos\n",
    "print('Examples:\\n    Total: {}\\n    Positive: {} ({:.2f}% of total)\\n'.format(\n",
    "    total, pos, 100 * pos / total))"
   ]
  },
  {
   "cell_type": "code",
   "execution_count": 16,
   "metadata": {},
   "outputs": [
    {
     "data": {
      "text/plain": [
       "array([-3.40277296])"
      ]
     },
     "execution_count": 16,
     "metadata": {},
     "output_type": "execute_result"
    }
   ],
   "source": [
    "initial_bias = np.log([pos/neg])\n",
    "initial_bias"
   ]
  },
  {
   "cell_type": "code",
   "execution_count": 17,
   "metadata": {},
   "outputs": [
    {
     "data": {
      "text/plain": [
       "array([[0.04696372],\n",
       "       [0.04582417],\n",
       "       [0.05989337],\n",
       "       [0.06584194],\n",
       "       [0.0886147 ],\n",
       "       [0.11713529],\n",
       "       [0.02666801],\n",
       "       [0.04169926],\n",
       "       [0.07146955],\n",
       "       [0.03905021]], dtype=float32)"
      ]
     },
     "execution_count": 17,
     "metadata": {},
     "output_type": "execute_result"
    }
   ],
   "source": [
    "model = make_model(output_bias = initial_bias)\n",
    "model.predict(X_train[:10])"
   ]
  },
  {
   "cell_type": "code",
   "execution_count": 18,
   "metadata": {},
   "outputs": [
    {
     "name": "stdout",
     "output_type": "stream",
     "text": [
      "Loss: 0.1661\n"
     ]
    }
   ],
   "source": [
    "results = model.evaluate(X_train,y_train, batch_size=BATCH_SIZE, verbose=0)\n",
    "print(\"Loss: {:0.4f}\".format(results[0]))"
   ]
  },
  {
   "cell_type": "code",
   "execution_count": 19,
   "metadata": {},
   "outputs": [],
   "source": [
    "initial_weights = os.path.join(tempfile.mkdtemp(),'initial_weights')\n",
    "model.save_weights(initial_weights)"
   ]
  },
  {
   "cell_type": "code",
   "execution_count": 20,
   "metadata": {},
   "outputs": [],
   "source": [
    "model = make_model()\n",
    "model.load_weights(initial_weights)\n",
    "model.layers[-1].bias.assign([0.0])\n",
    "zero_bias_history = model.fit(\n",
    "    X_train,\n",
    "    y_train,\n",
    "    batch_size=BATCH_SIZE,\n",
    "    epochs=20,\n",
    "    validation_data=(X_val, y_val), \n",
    "    verbose=0)"
   ]
  },
  {
   "cell_type": "code",
   "execution_count": 22,
   "metadata": {},
   "outputs": [],
   "source": [
    "model = make_model()\n",
    "model.load_weights(initial_weights)\n",
    "careful_bias_history = model.fit(\n",
    "    X_train,\n",
    "    y_train,\n",
    "    batch_size=BATCH_SIZE,\n",
    "    epochs=20,\n",
    "    validation_data=(X_val, y_val), \n",
    "    verbose=0)"
   ]
  },
  {
   "cell_type": "code",
   "execution_count": 26,
   "metadata": {},
   "outputs": [],
   "source": [
    "def plot_loss(history, label, n):\n",
    "  # Use a log scale to show the wide range of values.\n",
    "    plt.semilogy(history.epoch,  history.history['loss'],\n",
    "               color=n, label='Train '+label)\n",
    "    plt.semilogy(history.epoch,  history.history['val_loss'],\n",
    "          color=n, label='Val '+label,\n",
    "          linestyle=\"--\")\n",
    "    plt.xlabel('Epoch')\n",
    "    plt.ylabel('Loss')\n",
    "  \n",
    "    plt.legend()"
   ]
  },
  {
   "cell_type": "code",
   "execution_count": 27,
   "metadata": {},
   "outputs": [
    {
     "data": {
      "image/png": "[encoded data removed]",
      "text/plain": [
       "<Figure size 432x288 with 1 Axes>"
      ]
     },
     "metadata": {
      "needs_background": "light"
     },
     "output_type": "display_data"
    }
   ],
   "source": [
    "plot_loss(zero_bias_history, \"Zero Bias\", 'red')\n",
    "plot_loss(careful_bias_history, \"Careful Bias\", 'blue')"
   ]
  },
  {
   "cell_type": "code",
   "execution_count": 28,
   "metadata": {},
   "outputs": [
    {
     "name": "stdout",
     "output_type": "stream",
     "text": [
      "Train on 930524 samples, validate on 310003 samples\n",
      "Epoch 1/100\n",
      "930524/930524 [==============================] - 8s 8us/sample - loss: 0.1431 - tp: 440.0000 - fp: 1647.0000 - tn: 898622.0000 - fn: 29815.0000 - accuracy: 0.9662 - precision: 0.2108 - recall: 0.0145 - auc: 0.6388 - val_loss: 0.1312 - val_tp: 127.0000 - val_fp: 263.0000 - val_tn: 299850.0000 - val_fn: 9763.0000 - val_accuracy: 0.9677 - val_precision: 0.3256 - val_recall: 0.0128 - val_auc: 0.7009\n",
      "Epoch 2/100\n",
      "930524/930524 [==============================] - 7s 7us/sample - loss: 0.1310 - tp: 676.0000 - fp: 1590.0000 - tn: 898679.0000 - fn: 29579.0000 - accuracy: 0.9665 - precision: 0.2983 - recall: 0.0223 - auc: 0.7368 - val_loss: 0.1307 - val_tp: 137.0000 - val_fp: 267.0000 - val_tn: 299846.0000 - val_fn: 9753.0000 - val_accuracy: 0.9677 - val_precision: 0.3391 - val_recall: 0.0139 - val_auc: 0.7071\n",
      "Epoch 3/100\n",
      "930524/930524 [==============================] - 7s 7us/sample - loss: 0.1296 - tp: 660.0000 - fp: 1501.0000 - tn: 898768.0000 - fn: 29595.0000 - accuracy: 0.9666 - precision: 0.3054 - recall: 0.0218 - auc: 0.7501 - val_loss: 0.1306 - val_tp: 143.0000 - val_fp: 285.0000 - val_tn: 299828.0000 - val_fn: 9747.0000 - val_accuracy: 0.9676 - val_precision: 0.3341 - val_recall: 0.0145 - val_auc: 0.7084\n",
      "Epoch 4/100\n",
      "930524/930524 [==============================] - 6s 6us/sample - loss: 0.1290 - tp: 626.0000 - fp: 1479.0000 - tn: 898790.0000 - fn: 29629.0000 - accuracy: 0.9666 - precision: 0.2974 - recall: 0.0207 - auc: 0.7552 - val_loss: 0.1310 - val_tp: 119.0000 - val_fp: 241.0000 - val_tn: 299872.0000 - val_fn: 9771.0000 - val_accuracy: 0.9677 - val_precision: 0.3306 - val_recall: 0.0120 - val_auc: 0.7066\n",
      "Epoch 5/100\n",
      "930524/930524 [==============================] - 6s 7us/sample - loss: 0.1283 - tp: 642.0000 - fp: 1405.0000 - tn: 898864.0000 - fn: 29613.0000 - accuracy: 0.9667 - precision: 0.3136 - recall: 0.0212 - auc: 0.7598 - val_loss: 0.1308 - val_tp: 139.0000 - val_fp: 280.0000 - val_tn: 299833.0000 - val_fn: 9751.0000 - val_accuracy: 0.9676 - val_precision: 0.3317 - val_recall: 0.0141 - val_auc: 0.7061\n",
      "Epoch 6/100\n",
      "930524/930524 [==============================] - 6s 7us/sample - loss: 0.1281 - tp: 575.0000 - fp: 1367.0000 - tn: 898902.0000 - fn: 29680.0000 - accuracy: 0.9666 - precision: 0.2961 - recall: 0.0190 - auc: 0.7601 - val_loss: 0.1308 - val_tp: 141.0000 - val_fp: 311.0000 - val_tn: 299802.0000 - val_fn: 9749.0000 - val_accuracy: 0.9675 - val_precision: 0.3119 - val_recall: 0.0143 - val_auc: 0.7073\n",
      "Epoch 7/100\n",
      "930524/930524 [==============================] - 6s 7us/sample - loss: 0.1279 - tp: 559.0000 - fp: 1375.0000 - tn: 898894.0000 - fn: 29696.0000 - accuracy: 0.9666 - precision: 0.2890 - recall: 0.0185 - auc: 0.7607 - val_loss: 0.1310 - val_tp: 119.0000 - val_fp: 232.0000 - val_tn: 299881.0000 - val_fn: 9771.0000 - val_accuracy: 0.9677 - val_precision: 0.3390 - val_recall: 0.0120 - val_auc: 0.7052\n",
      "Epoch 8/100\n",
      "930524/930524 [==============================] - 6s 7us/sample - loss: 0.1279 - tp: 581.0000 - fp: 1358.0000 - tn: 898911.0000 - fn: 29674.0000 - accuracy: 0.9667 - precision: 0.2996 - recall: 0.0192 - auc: 0.7600 - val_loss: 0.1305 - val_tp: 109.0000 - val_fp: 216.0000 - val_tn: 299897.0000 - val_fn: 9781.0000 - val_accuracy: 0.9678 - val_precision: 0.3354 - val_recall: 0.0110 - val_auc: 0.7073\n",
      "Epoch 9/100\n",
      "930524/930524 [==============================] - 6s 7us/sample - loss: 0.1277 - tp: 562.0000 - fp: 1364.0000 - tn: 898905.0000 - fn: 29693.0000 - accuracy: 0.9666 - precision: 0.2918 - recall: 0.0186 - auc: 0.7603 - val_loss: 0.1307 - val_tp: 135.0000 - val_fp: 283.0000 - val_tn: 299830.0000 - val_fn: 9755.0000 - val_accuracy: 0.9676 - val_precision: 0.3230 - val_recall: 0.0137 - val_auc: 0.7067\n",
      "Epoch 10/100\n",
      "930524/930524 [==============================] - 6s 7us/sample - loss: 0.1276 - tp: 534.0000 - fp: 1366.0000 - tn: 898903.0000 - fn: 29721.0000 - accuracy: 0.9666 - precision: 0.2811 - recall: 0.0176 - auc: 0.7607 - val_loss: 0.1307 - val_tp: 116.0000 - val_fp: 239.0000 - val_tn: 299874.0000 - val_fn: 9774.0000 - val_accuracy: 0.9677 - val_precision: 0.3268 - val_recall: 0.0117 - val_auc: 0.7071\n",
      "Epoch 11/100\n",
      "930524/930524 [==============================] - 6s 6us/sample - loss: 0.1277 - tp: 560.0000 - fp: 1296.0000 - tn: 898973.0000 - fn: 29695.0000 - accuracy: 0.9667 - precision: 0.3017 - recall: 0.0185 - auc: 0.7593 - val_loss: 0.1304 - val_tp: 111.0000 - val_fp: 228.0000 - val_tn: 299885.0000 - val_fn: 9779.0000 - val_accuracy: 0.9677 - val_precision: 0.3274 - val_recall: 0.0112 - val_auc: 0.7073\n",
      "Epoch 12/100\n",
      "930524/930524 [==============================] - 6s 7us/sample - loss: 0.1277 - tp: 511.0000 - fp: 1305.0000 - tn: 898964.0000 - fn: 29744.0000 - accuracy: 0.9666 - precision: 0.2814 - recall: 0.0169 - auc: 0.7590 - val_loss: 0.1306 - val_tp: 121.0000 - val_fp: 257.0000 - val_tn: 299856.0000 - val_fn: 9769.0000 - val_accuracy: 0.9677 - val_precision: 0.3201 - val_recall: 0.0122 - val_auc: 0.7078\n",
      "Epoch 13/100\n",
      "930524/930524 [==============================] - 6s 7us/sample - loss: 0.1277 - tp: 514.0000 - fp: 1272.0000 - tn: 898997.0000 - fn: 29741.0000 - accuracy: 0.9667 - precision: 0.2878 - recall: 0.0170 - auc: 0.7596 - val_loss: 0.1302 - val_tp: 117.0000 - val_fp: 258.0000 - val_tn: 299855.0000 - val_fn: 9773.0000 - val_accuracy: 0.9676 - val_precision: 0.3120 - val_recall: 0.0118 - val_auc: 0.7100\n",
      "Epoch 14/100\n",
      "930524/930524 [==============================] - 6s 7us/sample - loss: 0.1276 - tp: 543.0000 - fp: 1259.0000 - tn: 899010.0000 - fn: 29712.0000 - accuracy: 0.9667 - precision: 0.3013 - recall: 0.0179 - auc: 0.7586 - val_loss: 0.1304 - val_tp: 123.0000 - val_fp: 273.0000 - val_tn: 299840.0000 - val_fn: 9767.0000 - val_accuracy: 0.9676 - val_precision: 0.3106 - val_recall: 0.0124 - val_auc: 0.7085\n",
      "Epoch 15/100\n",
      "930524/930524 [==============================] - 6s 7us/sample - loss: 0.1274 - tp: 526.0000 - fp: 1233.0000 - tn: 899036.0000 - fn: 29729.0000 - accuracy: 0.9667 - precision: 0.2990 - recall: 0.0174 - auc: 0.7597 - val_loss: 0.1302 - val_tp: 105.0000 - val_fp: 229.0000 - val_tn: 299884.0000 - val_fn: 9785.0000 - val_accuracy: 0.9677 - val_precision: 0.3144 - val_recall: 0.0106 - val_auc: 0.7086\n",
      "Epoch 16/100\n",
      "930524/930524 [==============================] - 7s 7us/sample - loss: 0.1275 - tp: 550.0000 - fp: 1364.0000 - tn: 898905.0000 - fn: 29705.0000 - accuracy: 0.9666 - precision: 0.2874 - recall: 0.0182 - auc: 0.7580 - val_loss: 0.1302 - val_tp: 98.0000 - val_fp: 201.0000 - val_tn: 299912.0000 - val_fn: 9792.0000 - val_accuracy: 0.9678 - val_precision: 0.3278 - val_recall: 0.0099 - val_auc: 0.7087\n",
      "Epoch 17/100\n",
      "930524/930524 [==============================] - 7s 7us/sample - loss: 0.1273 - tp: 546.0000 - fp: 1240.0000 - tn: 899029.0000 - fn: 29709.0000 - accuracy: 0.9667 - precision: 0.3057 - recall: 0.0180 - auc: 0.7598 - val_loss: 0.1304 - val_tp: 108.0000 - val_fp: 240.0000 - val_tn: 299873.0000 - val_fn: 9782.0000 - val_accuracy: 0.9677 - val_precision: 0.3103 - val_recall: 0.0109 - val_auc: 0.7071\n",
      "Epoch 18/100\n",
      "930524/930524 [==============================] - 7s 8us/sample - loss: 0.1275 - tp: 490.0000 - fp: 1263.0000 - tn: 899006.0000 - fn: 29765.0000 - accuracy: 0.9667 - precision: 0.2795 - recall: 0.0162 - auc: 0.7582 - val_loss: 0.1303 - val_tp: 123.0000 - val_fp: 277.0000 - val_tn: 299836.0000 - val_fn: 9767.0000 - val_accuracy: 0.9676 - val_precision: 0.3075 - val_recall: 0.0124 - val_auc: 0.7086\n",
      "Epoch 19/100\n",
      "930524/930524 [==============================] - 6s 7us/sample - loss: 0.1274 - tp: 541.0000 - fp: 1272.0000 - tn: 898997.0000 - fn: 29714.0000 - accuracy: 0.9667 - precision: 0.2984 - recall: 0.0179 - auc: 0.7586 - val_loss: 0.1299 - val_tp: 106.0000 - val_fp: 225.0000 - val_tn: 299888.0000 - val_fn: 9784.0000 - val_accuracy: 0.9677 - val_precision: 0.3202 - val_recall: 0.0107 - val_auc: 0.7100\n",
      "Epoch 20/100\n",
      "930524/930524 [==============================] - 6s 7us/sample - loss: 0.1276 - tp: 513.0000 - fp: 1226.0000 - tn: 899043.0000 - fn: 29742.0000 - accuracy: 0.9667 - precision: 0.2950 - recall: 0.0170 - auc: 0.7581 - val_loss: 0.1301 - val_tp: 117.0000 - val_fp: 264.0000 - val_tn: 299849.0000 - val_fn: 9773.0000 - val_accuracy: 0.9676 - val_precision: 0.3071 - val_recall: 0.0118 - val_auc: 0.7097\n",
      "Epoch 21/100\n",
      "930524/930524 [==============================] - 6s 7us/sample - loss: 0.1274 - tp: 538.0000 - fp: 1248.0000 - tn: 899021.0000 - fn: 29717.0000 - accuracy: 0.9667 - precision: 0.3012 - recall: 0.0178 - auc: 0.7588 - val_loss: 0.1302 - val_tp: 100.0000 - val_fp: 226.0000 - val_tn: 299887.0000 - val_fn: 9790.0000 - val_accuracy: 0.9677 - val_precision: 0.3067 - val_recall: 0.0101 - val_auc: 0.7085\n",
      "Epoch 22/100\n",
      "930524/930524 [==============================] - 7s 7us/sample - loss: 0.1276 - tp: 466.0000 - fp: 1232.0000 - tn: 899037.0000 - fn: 29789.0000 - accuracy: 0.9667 - precision: 0.2744 - recall: 0.0154 - auc: 0.7583 - val_loss: 0.1304 - val_tp: 87.0000 - val_fp: 191.0000 - val_tn: 299922.0000 - val_fn: 9803.0000 - val_accuracy: 0.9678 - val_precision: 0.3129 - val_recall: 0.0088 - val_auc: 0.7064\n",
      "Epoch 23/100\n",
      "929792/930524 [============================>.] - ETA: 0s - loss: 0.1273 - tp: 568.0000 - fp: 1249.0000 - tn: 898303.0000 - fn: 29672.0000 - accuracy: 0.9667 - precision: 0.3126 - recall: 0.0188 - auc: 0.7582Restoring model weights from the end of the best epoch.\n",
      "930524/930524 [==============================] - 7s 7us/sample - loss: 0.1273 - tp: 568.0000 - fp: 1249.0000 - tn: 899020.0000 - fn: 29687.0000 - accuracy: 0.9668 - precision: 0.3126 - recall: 0.0188 - auc: 0.7583 - val_loss: 0.1302 - val_tp: 85.0000 - val_fp: 191.0000 - val_tn: 299922.0000 - val_fn: 9805.0000 - val_accuracy: 0.9678 - val_precision: 0.3080 - val_recall: 0.0086 - val_auc: 0.7081\n",
      "Epoch 00023: early stopping\n"
     ]
    }
   ],
   "source": [
    "model = make_model()\n",
    "model.load_weights(initial_weights)\n",
    "baseline_history = model.fit(\n",
    "    X_train,\n",
    "    y_train,\n",
    "    batch_size=BATCH_SIZE,\n",
    "    epochs=EPOCHS,\n",
    "    callbacks = [early_stopping],\n",
    "    validation_data=(X_val, y_val))"
   ]
  },
  {
   "cell_type": "code",
   "execution_count": 36,
   "metadata": {},
   "outputs": [],
   "source": [
    "def plot_metrics(history):\n",
    "  metrics =  ['loss', 'auc', 'precision', 'recall']\n",
    "  for n, metric in enumerate(metrics):\n",
    "    name = metric.replace(\"_\",\" \").capitalize()\n",
    "    plt.subplot(2,2,n+1)\n",
    "    plt.plot(history.epoch,  history.history[metric], color='red', label='Train')\n",
    "    plt.plot(history.epoch, history.history['val_'+metric],\n",
    "             color='blue', linestyle=\"--\", label='Val')\n",
    "    plt.xlabel('Epoch')\n",
    "    plt.ylabel(name)\n",
    "    if metric == 'loss':\n",
    "      plt.ylim([0, 1])\n",
    "    elif metric == 'auc':\n",
    "      plt.ylim([0.5,1])\n",
    "    else:\n",
    "      plt.ylim([0,1])\n",
    "\n",
    "    plt.legend()"
   ]
  },
  {
   "cell_type": "code",
   "execution_count": 37,
   "metadata": {},
   "outputs": [
    {
     "data": {
      "image/png": "[encoded data removed]",
      "text/plain": [
       "<Figure size 432x288 with 4 Axes>"
      ]
     },
     "metadata": {
      "needs_background": "light"
     },
     "output_type": "display_data"
    }
   ],
   "source": [
    "plot_metrics(baseline_history)"
   ]
  },
  {
   "cell_type": "code",
   "execution_count": 38,
   "metadata": {},
   "outputs": [],
   "source": [
    "train_predictions_baseline = model.predict(X_train, batch_size=BATCH_SIZE)\n",
    "test_predictions_baseline = model.predict(X_test, batch_size=BATCH_SIZE)"
   ]
  },
  {
   "cell_type": "code",
   "execution_count": 39,
   "metadata": {},
   "outputs": [],
   "source": [
    "def plot_cm(labels, predictions, p=0.5):\n",
    "    cm = confusion_matrix(labels, predictions > p)\n",
    "    plt.figure(figsize=(5,5))\n",
    "    sns.heatmap(cm, annot=True, fmt=\"d\")\n",
    "    plt.title('Confusion matrix @{:.2f}'.format(p))\n",
    "    plt.ylabel('Actual label')\n",
    "    plt.xlabel('Predicted label')\n",
    "\n",
    "    print('Legitimate Transactions Detected (True Negatives): ', cm[0][0])\n",
    "    print('Legitimate Transactions Incorrectly Detected (False Positives): ', cm[0][1])\n",
    "    print('Fraudulent Transactions Missed (False Negatives): ', cm[1][0])\n",
    "    print('Fraudulent Transactions Detected (True Positives): ', cm[1][1])\n",
    "    print('Total Fraudulent Transactions: ', np.sum(cm[1]))"
   ]
  },
  {
   "cell_type": "code",
   "execution_count": 40,
   "metadata": {},
   "outputs": [
    {
     "name": "stdout",
     "output_type": "stream",
     "text": [
      "loss :  0.13074157081568974\n",
      "tp :  157.0\n",
      "fp :  568.0\n",
      "tn :  301265.0\n",
      "fn :  9693.0\n",
      "accuracy :  0.96707875\n",
      "precision :  0.21655172\n",
      "recall :  0.015939087\n",
      "auc :  0.7067907\n",
      "\n",
      "Legitimate Transactions Detected (True Negatives):  301265\n",
      "Legitimate Transactions Incorrectly Detected (False Positives):  568\n",
      "Fraudulent Transactions Missed (False Negatives):  9693\n",
      "Fraudulent Transactions Detected (True Positives):  157\n",
      "Total Fraudulent Transactions:  9850\n"
     ]
    },
    {
     "data": {
      "image/png": "[encoded data removed]",
      "text/plain": [
       "<Figure size 360x360 with 2 Axes>"
      ]
     },
     "metadata": {
      "needs_background": "light"
     },
     "output_type": "display_data"
    }
   ],
   "source": [
    "baseline_results = model.evaluate(X_test, y_test,\n",
    "                                  batch_size=BATCH_SIZE, verbose=0)\n",
    "for name, value in zip(model.metrics_names, baseline_results):\n",
    "  print(name, ': ', value)\n",
    "print()\n",
    "\n",
    "plot_cm(y_test, test_predictions_baseline)"
   ]
  },
  {
   "cell_type": "code",
   "execution_count": 46,
   "metadata": {},
   "outputs": [],
   "source": [
    "def plot_roc(name, labels, predictions, **kwargs):\n",
    "    fp, tp, _ = sklearn.metrics.roc_curve(labels, predictions)\n",
    "\n",
    "    plt.plot(100*fp, 100*tp, label=name, linewidth=2, **kwargs)\n",
    "    plt.xlabel('False positives [%]')\n",
    "    plt.ylabel('True positives [%]')\n",
    "    plt.xlim([-0.5,100])\n",
    "    plt.ylim([0,100.5])\n",
    "    plt.grid(True)\n",
    "    ax = plt.gca()\n",
    "    ax.set_aspect('equal')"
   ]
  },
  {
   "cell_type": "code",
   "execution_count": 47,
   "metadata": {},
   "outputs": [
    {
     "data": {
      "text/plain": [
       "<matplotlib.legend.Legend at 0x19e1e5261c8>"
      ]
     },
     "execution_count": 47,
     "metadata": {},
     "output_type": "execute_result"
    },
    {
     "data": {
      "image/png": "[encoded data removed]",
      "text/plain": [
       "<Figure size 432x288 with 1 Axes>"
      ]
     },
     "metadata": {
      "needs_background": "light"
     },
     "output_type": "display_data"
    }
   ],
   "source": [
    "plot_roc(\"Train Baseline\", y_train, train_predictions_baseline, color='blue')\n",
    "plot_roc(\"Test Baseline\", y_test, test_predictions_baseline, color='blue', linestyle='--')\n",
    "plt.legend(loc='lower right')"
   ]
  },
  {
   "cell_type": "code",
   "execution_count": 49,
   "metadata": {},
   "outputs": [
    {
     "name": "stdout",
     "output_type": "stream",
     "text": [
      "Weight for class 0: 0.52\n",
      "Weight for class 1: 15.52\n"
     ]
    }
   ],
   "source": [
    "# Scaling by total/2 helps keep the loss to a similar magnitude.\n",
    "# The sum of the weights of all examples stays the same.\n",
    "weight_for_0 = (1 / neg)*(total)/2.0 \n",
    "weight_for_1 = (1 / pos)*(total)/2.0\n",
    "class_weight = {0: weight_for_0, 1: weight_for_1}\n",
    "\n",
    "print('Weight for class 0: {:.2f}'.format(weight_for_0))\n",
    "print('Weight for class 1: {:.2f}'.format(weight_for_1))"
   ]
  },
  {
   "cell_type": "code",
   "execution_count": 50,
   "metadata": {},
   "outputs": [
    {
     "name": "stdout",
     "output_type": "stream",
     "text": [
      "Train on 930524 samples, validate on 310003 samples\n",
      "Epoch 1/100\n",
      "930524/930524 [==============================] - 9s 10us/sample - loss: 1.0087 - tp: 9427.0000 - fp: 145025.0000 - tn: 755244.0000 - fn: 20828.0000 - accuracy: 0.8218 - precision: 0.0610 - recall: 0.3116 - auc: 0.5934 - val_loss: 0.4390 - val_tp: 4388.0000 - val_fp: 38169.0000 - val_tn: 261944.0000 - val_fn: 5502.0000 - val_accuracy: 0.8591 - val_precision: 0.1031 - val_recall: 0.4437 - val_auc: 0.7124\n",
      "Epoch 2/100\n",
      "930524/930524 [==============================] - 7s 7us/sample - loss: 0.7321 - tp: 15220.0000 - fp: 187529.0000 - tn: 712740.0000 - fn: 15035.0000 - accuracy: 0.7823 - precision: 0.0751 - recall: 0.5031 - auc: 0.6962 - val_loss: 0.4650 - val_tp: 4581.0000 - val_fp: 39291.0000 - val_tn: 260822.0000 - val_fn: 5309.0000 - val_accuracy: 0.8561 - val_precision: 0.1044 - val_recall: 0.4632 - val_auc: 0.7193\n",
      "Epoch 3/100\n",
      "930524/930524 [==============================] - 6s 7us/sample - loss: 0.6857 - tp: 15730.0000 - fp: 188750.0000 - tn: 711519.0000 - fn: 14525.0000 - accuracy: 0.7815 - precision: 0.0769 - recall: 0.5199 - auc: 0.7101 - val_loss: 0.4641 - val_tp: 4517.0000 - val_fp: 37001.0000 - val_tn: 263112.0000 - val_fn: 5373.0000 - val_accuracy: 0.8633 - val_precision: 0.1088 - val_recall: 0.4567 - val_auc: 0.7201\n",
      "Epoch 4/100\n",
      "930524/930524 [==============================] - 6s 7us/sample - loss: 0.6585 - tp: 15982.0000 - fp: 188772.0000 - tn: 711497.0000 - fn: 14273.0000 - accuracy: 0.7818 - precision: 0.0781 - recall: 0.5282 - auc: 0.7162 - val_loss: 0.4838 - val_tp: 4665.0000 - val_fp: 41665.0000 - val_tn: 258448.0000 - val_fn: 5225.0000 - val_accuracy: 0.8487 - val_precision: 0.1007 - val_recall: 0.4717 - val_auc: 0.7191\n",
      "Epoch 5/100\n",
      "930524/930524 [==============================] - 7s 7us/sample - loss: 0.6393 - tp: 16297.0000 - fp: 191051.0000 - tn: 709218.0000 - fn: 13958.0000 - accuracy: 0.7797 - precision: 0.0786 - recall: 0.5387 - auc: 0.7228 - val_loss: 0.4891 - val_tp: 4673.0000 - val_fp: 42134.0000 - val_tn: 257979.0000 - val_fn: 5217.0000 - val_accuracy: 0.8473 - val_precision: 0.0998 - val_recall: 0.4725 - val_auc: 0.7173\n",
      "Epoch 6/100\n",
      "930524/930524 [==============================] - 6s 7us/sample - loss: 0.6276 - tp: 16444.0000 - fp: 189040.0000 - tn: 711229.0000 - fn: 13811.0000 - accuracy: 0.7820 - precision: 0.0800 - recall: 0.5435 - auc: 0.7284 - val_loss: 0.5039 - val_tp: 4808.0000 - val_fp: 45441.0000 - val_tn: 254672.0000 - val_fn: 5082.0000 - val_accuracy: 0.8370 - val_precision: 0.0957 - val_recall: 0.4861 - val_auc: 0.7161\n",
      "Epoch 7/100\n",
      "930524/930524 [==============================] - 7s 7us/sample - loss: 0.6146 - tp: 16864.0000 - fp: 189894.0000 - tn: 710375.0000 - fn: 13391.0000 - accuracy: 0.7815 - precision: 0.0816 - recall: 0.5574 - auc: 0.7366 - val_loss: 0.5038 - val_tp: 4795.0000 - val_fp: 46039.0000 - val_tn: 254074.0000 - val_fn: 5095.0000 - val_accuracy: 0.8351 - val_precision: 0.0943 - val_recall: 0.4848 - val_auc: 0.7143\n",
      "Epoch 8/100\n",
      "930524/930524 [==============================] - 7s 7us/sample - loss: 0.6065 - tp: 17051.0000 - fp: 187968.0000 - tn: 712301.0000 - fn: 13204.0000 - accuracy: 0.7838 - precision: 0.0832 - recall: 0.5636 - auc: 0.7426 - val_loss: 0.5185 - val_tp: 4927.0000 - val_fp: 49129.0000 - val_tn: 250984.0000 - val_fn: 4963.0000 - val_accuracy: 0.8255 - val_precision: 0.0911 - val_recall: 0.4982 - val_auc: 0.7150\n",
      "Epoch 9/100\n",
      "930524/930524 [==============================] - 7s 7us/sample - loss: 0.6004 - tp: 17197.0000 - fp: 187434.0000 - tn: 712835.0000 - fn: 13058.0000 - accuracy: 0.7845 - precision: 0.0840 - recall: 0.5684 - auc: 0.7483 - val_loss: 0.5158 - val_tp: 4918.0000 - val_fp: 48089.0000 - val_tn: 252024.0000 - val_fn: 4972.0000 - val_accuracy: 0.8288 - val_precision: 0.0928 - val_recall: 0.4973 - val_auc: 0.7154\n",
      "Epoch 10/100\n",
      "930524/930524 [==============================] - 7s 7us/sample - loss: 0.5952 - tp: 17475.0000 - fp: 188540.0000 - tn: 711729.0000 - fn: 12780.0000 - accuracy: 0.7836 - precision: 0.0848 - recall: 0.5776 - auc: 0.7536 - val_loss: 0.5079 - val_tp: 4822.0000 - val_fp: 44467.0000 - val_tn: 255646.0000 - val_fn: 5068.0000 - val_accuracy: 0.8402 - val_precision: 0.0978 - val_recall: 0.4876 - val_auc: 0.7150\n",
      "Epoch 11/100\n",
      "930524/930524 [==============================] - 7s 7us/sample - loss: 0.5908 - tp: 17687.0000 - fp: 185887.0000 - tn: 714382.0000 - fn: 12568.0000 - accuracy: 0.7867 - precision: 0.0869 - recall: 0.5846 - auc: 0.7585 - val_loss: 0.5291 - val_tp: 5013.0000 - val_fp: 48979.0000 - val_tn: 251134.0000 - val_fn: 4877.0000 - val_accuracy: 0.8263 - val_precision: 0.0928 - val_recall: 0.5069 - val_auc: 0.7156\n",
      "Epoch 12/100\n",
      "930524/930524 [==============================] - 7s 7us/sample - loss: 0.5869 - tp: 17924.0000 - fp: 185811.0000 - tn: 714458.0000 - fn: 12331.0000 - accuracy: 0.7871 - precision: 0.0880 - recall: 0.5924 - auc: 0.7630 - val_loss: 0.5269 - val_tp: 4987.0000 - val_fp: 47868.0000 - val_tn: 252245.0000 - val_fn: 4903.0000 - val_accuracy: 0.8298 - val_precision: 0.0944 - val_recall: 0.5042 - val_auc: 0.7160\n",
      "Epoch 13/100\n",
      "925696/930524 [============================>.] - ETA: 0s - loss: 0.5851 - tp: 17933.0000 - fp: 184966.0000 - tn: 710630.0000 - fn: 12167.0000 - accuracy: 0.7870 - precision: 0.0884 - recall: 0.5958 - auc: 0.7647Restoring model weights from the end of the best epoch.\n",
      "930524/930524 [==============================] - 7s 7us/sample - loss: 0.5853 - tp: 18016.0000 - fp: 185909.0000 - tn: 714360.0000 - fn: 12239.0000 - accuracy: 0.7871 - precision: 0.0883 - recall: 0.5955 - auc: 0.7645 - val_loss: 0.5307 - val_tp: 5007.0000 - val_fp: 47490.0000 - val_tn: 252623.0000 - val_fn: 4883.0000 - val_accuracy: 0.8311 - val_precision: 0.0954 - val_recall: 0.5063 - val_auc: 0.7152\n",
      "Epoch 00013: early stopping\n"
     ]
    }
   ],
   "source": [
    "weighted_model = make_model()\n",
    "weighted_model.load_weights(initial_weights)\n",
    "\n",
    "weighted_history = weighted_model.fit(\n",
    "    X_train,\n",
    "    y_train,\n",
    "    batch_size=BATCH_SIZE,\n",
    "    epochs=EPOCHS,\n",
    "    callbacks = [early_stopping],\n",
    "    validation_data=(X_val, y_val),\n",
    "    # The class weights go here\n",
    "    class_weight=class_weight) "
   ]
  },
  {
   "cell_type": "code",
   "execution_count": 51,
   "metadata": {},
   "outputs": [],
   "source": [
    "train_predictions_weighted = weighted_model.predict(X_train, batch_size=BATCH_SIZE)\n",
    "test_predictions_weighted = weighted_model.predict(X_test, batch_size=BATCH_SIZE)"
   ]
  },
  {
   "cell_type": "code",
   "execution_count": 52,
   "metadata": {},
   "outputs": [
    {
     "name": "stdout",
     "output_type": "stream",
     "text": [
      "loss :  0.48739380878776484\n",
      "tp :  4613.0\n",
      "fp :  39314.0\n",
      "tn :  262519.0\n",
      "fn :  5237.0\n",
      "accuracy :  0.8570631\n",
      "precision :  0.10501514\n",
      "recall :  0.46832487\n",
      "auc :  0.715882\n",
      "\n",
      "Legitimate Transactions Detected (True Negatives):  262519\n",
      "Legitimate Transactions Incorrectly Detected (False Positives):  39314\n",
      "Fraudulent Transactions Missed (False Negatives):  5237\n",
      "Fraudulent Transactions Detected (True Positives):  4613\n",
      "Total Fraudulent Transactions:  9850\n"
     ]
    },
    {
     "data": {
      "image/png": "[encoded data removed]",
      "text/plain": [
       "<Figure size 360x360 with 2 Axes>"
      ]
     },
     "metadata": {
      "needs_background": "light"
     },
     "output_type": "display_data"
    }
   ],
   "source": [
    "weighted_results = weighted_model.evaluate(X_test, y_test,\n",
    "                                           batch_size=BATCH_SIZE, verbose=0)\n",
    "for name, value in zip(weighted_model.metrics_names, weighted_results):\n",
    "    print(name, ': ', value)\n",
    "print()\n",
    "\n",
    "plot_cm(y_test, test_predictions_weighted)"
   ]
  },
  {
   "cell_type": "code",
   "execution_count": 53,
   "metadata": {},
   "outputs": [
    {
     "data": {
      "text/plain": [
       "<matplotlib.legend.Legend at 0x19e4083f7c8>"
      ]
     },
     "execution_count": 53,
     "metadata": {},
     "output_type": "execute_result"
    },
    {
     "data": {
      "image/png": "[encoded data removed]",
      "text/plain": [
       "<Figure size 432x288 with 1 Axes>"
      ]
     },
     "metadata": {
      "needs_background": "light"
     },
     "output_type": "display_data"
    }
   ],
   "source": [
    "plot_roc(\"Train Baseline\", y_train, train_predictions_baseline, color='red')\n",
    "plot_roc(\"Test Baseline\", y_test, test_predictions_baseline, color='red', linestyle='--')\n",
    "\n",
    "plot_roc(\"Train Weighted\", y_train, train_predictions_weighted, color='blue')\n",
    "plot_roc(\"Test Weighted\", y_test, test_predictions_weighted, color='blue', linestyle='--')\n",
    "\n",
    "\n",
    "plt.legend(loc='lower right')"
   ]
  },
  {
   "cell_type": "code",
   "execution_count": null,
   "metadata": {},
   "outputs": [],
   "source": []
  }
 ],
 "metadata": {
  "kernelspec": {
   "display_name": "Python 3",
   "language": "python",
   "name": "python3"
  },
  "language_info": {
   "codemirror_mode": {
    "name": "ipython",
    "version": 3
   },
   "file_extension": ".py",
   "mimetype": "text/x-python",
   "name": "python",
   "nbconvert_exporter": "python",
   "pygments_lexer": "ipython3",
   "version": "3.7.4"
  }
 },
 "nbformat": 4,
 "nbformat_minor": 2
}
